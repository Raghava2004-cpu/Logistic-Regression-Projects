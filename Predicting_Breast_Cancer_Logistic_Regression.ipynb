{
  "nbformat": 4,
  "nbformat_minor": 0,
  "metadata": {
    "colab": {
      "private_outputs": true,
      "provenance": [],
      "authorship_tag": "ABX9TyP+OYi2vara5MgWs5jPSHqg",
      "include_colab_link": true
    },
    "kernelspec": {
      "name": "python3",
      "display_name": "Python 3"
    },
    "language_info": {
      "name": "python"
    }
  },
  "cells": [
    {
      "cell_type": "markdown",
      "metadata": {
        "id": "view-in-github",
        "colab_type": "text"
      },
      "source": [
        "<a href=\"https://colab.research.google.com/github/Raghava2004-cpu/Logistic-Regression-Projects/blob/main/Predicting_Breast_Cancer_Logistic_Regression.ipynb\" target=\"_parent\"><img src=\"https://colab.research.google.com/assets/colab-badge.svg\" alt=\"Open In Colab\"/></a>"
      ]
    },
    {
      "cell_type": "code",
      "execution_count": null,
      "metadata": {
        "id": "NRaAyIDVsUPq"
      },
      "outputs": [],
      "source": [
        "import numpy as np\n",
        "import pandas as pd\n",
        "import matplotlib.pyplot as plt\n",
        "import seaborn as sns\n",
        "\n",
        "data = pd.read_csv('/content/data.csv')\n",
        "data.head()"
      ]
    },
    {
      "cell_type": "code",
      "source": [
        "data.columns"
      ],
      "metadata": {
        "id": "jLbLCBaDVzNm"
      },
      "execution_count": null,
      "outputs": []
    },
    {
      "cell_type": "code",
      "source": [
        "data.shape"
      ],
      "metadata": {
        "id": "Tel29nI_WEVj"
      },
      "execution_count": null,
      "outputs": []
    },
    {
      "cell_type": "code",
      "source": [
        "data.info()"
      ],
      "metadata": {
        "id": "sybxPtKmWH4Z"
      },
      "execution_count": null,
      "outputs": []
    },
    {
      "cell_type": "code",
      "source": [
        "data.drop_duplicates"
      ],
      "metadata": {
        "id": "DzTWLZAIWOpi"
      },
      "execution_count": null,
      "outputs": []
    },
    {
      "cell_type": "code",
      "source": [
        "data.drop(columns = ['id' , 'Unnamed: 32'] , inplace = True)"
      ],
      "metadata": {
        "id": "QPFO02u8WTE1"
      },
      "execution_count": null,
      "outputs": []
    },
    {
      "cell_type": "code",
      "source": [
        "data.head()"
      ],
      "metadata": {
        "id": "M_FmNtUSWeX5"
      },
      "execution_count": null,
      "outputs": []
    },
    {
      "cell_type": "markdown",
      "source": [
        "Malignant:\n",
        "\n",
        "A malignant tumor is cancerous.\n",
        "It can invade and destroy nearby tissue and spread (metastasize) to other parts of the body through the bloodstream or lymphatic system.\n",
        "Malignant tumors often grow rapidly and are considered harmful.\n",
        "Benign:\n",
        "\n",
        "A benign tumor is non-cancerous.\n",
        "It does not spread to other parts of the body and usually grows slowly.\n",
        "Benign tumors are generally not life-threatening unless they press on vital organs or structures."
      ],
      "metadata": {
        "id": "6eHrxFIY_Mtw"
      }
    },
    {
      "cell_type": "code",
      "source": [
        "(data['diagnosis'].unique())"
      ],
      "metadata": {
        "id": "nPc7vSkaXTh_"
      },
      "execution_count": null,
      "outputs": []
    },
    {
      "cell_type": "code",
      "source": [
        "from sklearn.preprocessing import LabelEncoder\n",
        "\n",
        "label = LabelEncoder()\n",
        "data['diagnosis'] = label.fit_transform(data['diagnosis'])"
      ],
      "metadata": {
        "id": "PWNdLVe8XsDD"
      },
      "execution_count": null,
      "outputs": []
    },
    {
      "cell_type": "code",
      "source": [
        "data.head()"
      ],
      "metadata": {
        "id": "Dy_l6HaDX7_p"
      },
      "execution_count": null,
      "outputs": []
    },
    {
      "cell_type": "code",
      "source": [
        "data.describe()"
      ],
      "metadata": {
        "id": "7nz65l5TYOlt"
      },
      "execution_count": null,
      "outputs": []
    },
    {
      "cell_type": "code",
      "source": [
        "corr = data.corr()\n",
        "plt.figure(figsize = (21,8))\n",
        "sns.heatmap(corr , annot = True)"
      ],
      "metadata": {
        "id": "ezvQGT81YGOj"
      },
      "execution_count": null,
      "outputs": []
    },
    {
      "cell_type": "code",
      "source": [
        "from sklearn.model_selection import train_test_split\n",
        "\n",
        "x = data.drop(columns = ['diagnosis'])\n",
        "y = data['diagnosis']\n",
        "x_train , x_test , y_train , y_test = train_test_split(x , y , test_size = 0.25 , random_state = 42)"
      ],
      "metadata": {
        "id": "Y5k7Chh_Zscp"
      },
      "execution_count": null,
      "outputs": []
    },
    {
      "cell_type": "code",
      "source": [
        "from sklearn.preprocessing import StandardScaler\n",
        "scaling = StandardScaler()\n",
        "x_train_scale = scaling.fit_transform(x_train)\n",
        "x_test_scale = scaling.transform(x_test)"
      ],
      "metadata": {
        "id": "ObDjCwBAZh_K"
      },
      "execution_count": null,
      "outputs": []
    },
    {
      "cell_type": "code",
      "source": [
        "from sklearn.linear_model import LogisticRegression\n",
        "\n",
        "model = LogisticRegression(max_iter = 5000)\n",
        "model.fit(x_train_scale , y_train)\n"
      ],
      "metadata": {
        "id": "5vZSNcq6ajJQ"
      },
      "execution_count": null,
      "outputs": []
    },
    {
      "cell_type": "code",
      "source": [
        "y_pred = model.predict(x_test_scale)"
      ],
      "metadata": {
        "id": "ahHfkT1SaxM9"
      },
      "execution_count": null,
      "outputs": []
    },
    {
      "cell_type": "code",
      "source": [
        "from sklearn.metrics import accuracy_score , confusion_matrix , classification_report , precision_score , recall_score , roc_auc_score\n",
        "\n",
        "print(\"Accuracy Score : \", accuracy_score(y_test , y_pred))\n",
        "print(f\"Confusion Matrix : {confusion_matrix(y_test , y_pred)} \" )\n",
        "print(f\"Precision Score : {precision_score(y_test , y_pred)} \")\n",
        "print(f\"Recall Score : {recall_score(y_test , y_pred)}\")\n",
        "print(f\"ROC AUC SCORE :  {roc_auc_score(y_test , y_pred)}\")"
      ],
      "metadata": {
        "id": "CVvlXbcGa2qH"
      },
      "execution_count": null,
      "outputs": []
    },
    {
      "cell_type": "code",
      "source": [
        "cn = confusion_matrix(y_test , y_pred)\n",
        "plt.figure(figsize = (3,3))\n",
        "sns.heatmap(cn , annot = True)"
      ],
      "metadata": {
        "id": "7JM4pPKcfPzD"
      },
      "execution_count": null,
      "outputs": []
    },
    {
      "cell_type": "markdown",
      "source": [
        "USING THE L1 REGULARIZATION"
      ],
      "metadata": {
        "id": "UzBxJWfQc73v"
      }
    },
    {
      "cell_type": "code",
      "source": [
        "model1 = LogisticRegression(penalty = 'l1' , solver = 'liblinear' , C = 0.1 , random_state = 42 , max_iter = 5000)\n",
        "model1.fit(x_train_scale , y_train)   #use only liblinear in l1 ...l1 dont support lbfgs\n",
        "y_pred = model.predict(x_test_scale)"
      ],
      "metadata": {
        "id": "boBiN3Bhc_yf"
      },
      "execution_count": null,
      "outputs": []
    },
    {
      "cell_type": "code",
      "source": [
        "print(\"Accuracy Score : \", accuracy_score(y_test , y_pred))\n",
        "print(f\"Confusion Matrix : {confusion_matrix(y_test , y_pred)} \" )\n",
        "print(f\"Precision Score : {precision_score(y_test , y_pred)} \")\n",
        "print(f\"Recall Score : {recall_score(y_test , y_pred)}\")\n",
        "print(f\"ROC AUC SCORE :  {roc_auc_score(y_test , y_pred)}\")"
      ],
      "metadata": {
        "id": "NhHEEmK9eWXG"
      },
      "execution_count": null,
      "outputs": []
    },
    {
      "cell_type": "markdown",
      "source": [
        "USING THE L2 REGULARIZATION"
      ],
      "metadata": {
        "id": "L0krVmxmenMf"
      }
    },
    {
      "cell_type": "code",
      "source": [
        "model2 = LogisticRegression(penalty = 'l2' , solver = 'lbfgs' , C = 0.1 , random_state = 42 , max_iter = 5000)\n",
        "model1.fit(x_train_scale , y_train)\n",
        "y_pred = model.predict(x_test_scale)"
      ],
      "metadata": {
        "id": "uRfIlqSxeyFv"
      },
      "execution_count": null,
      "outputs": []
    },
    {
      "cell_type": "code",
      "source": [
        "print(\"Accuracy Score : \", accuracy_score(y_test , y_pred))\n",
        "print(f\"Confusion Matrix : {confusion_matrix(y_test , y_pred)} \" )\n",
        "print(f\"Precision Score : {precision_score(y_test , y_pred)} \")\n",
        "print(f\"Recall Score : {recall_score(y_test , y_pred)}\")\n",
        "print(f\"ROC AUC SCORE :  {roc_auc_score(y_test , y_pred)}\")"
      ],
      "metadata": {
        "id": "7vKJ_3pYfEH0"
      },
      "execution_count": null,
      "outputs": []
    },
    {
      "cell_type": "markdown",
      "source": [
        "USING THE ELASTIC NET REGULARIZATION"
      ],
      "metadata": {
        "id": "XJuZ-YemiIvM"
      }
    },
    {
      "cell_type": "code",
      "source": [
        "model3 = LogisticRegression(penalty = 'elasticnet' , l1_ratio = 0.5 , solver = 'saga' , C = 0.01 , random_state = 42 , max_iter = 5000)\n",
        "\n",
        "model3.fit(x_train_scale , y_train)\n",
        "y_pred = model.predict(x_test_scale)"
      ],
      "metadata": {
        "id": "KZJV4T-aiOD-"
      },
      "execution_count": null,
      "outputs": []
    },
    {
      "cell_type": "code",
      "source": [
        "print(\"Accuracy Score : \", accuracy_score(y_test , y_pred))\n",
        "print(f\"Confusion Matrix : {confusion_matrix(y_test , y_pred)} \" )\n",
        "print(f\"Precision Score : {precision_score(y_test , y_pred)} \")\n",
        "print(f\"Recall Score : {recall_score(y_test , y_pred)}\")\n",
        "print(f\"ROC AUC SCORE :  {roc_auc_score(y_test , y_pred)}\")"
      ],
      "metadata": {
        "id": "2Cvkt_vpiviU"
      },
      "execution_count": null,
      "outputs": []
    },
    {
      "cell_type": "code",
      "source": [
        "from sklearn.model_selection import KFold , cross_val_score\n",
        "from sklearn.linear_model import LogisticRegression\n",
        "from sklearn.preprocessing import StandardScaler\n",
        "\n",
        "kf = KFold(n_splits = 10 , shuffle = True , random_state = 42)\n",
        "new_model = LogisticRegression(penalty = 'l1' , C = 0.1 , solver = 'liblinear', random_state = 42 , max_iter = 5000 )\n",
        "\n",
        "best_accuracy = 0\n",
        "best_fold_data = None\n",
        "\n",
        "for fold , (train_index , test_index) in enumerate(kf.split(x)):\n",
        "   x_train , x_test = x.iloc[train_index] , x.iloc[test_index]\n",
        "   y_train , y_test = y.iloc[train_index]  , y.iloc[test_index]\n",
        "\n",
        "   scaled = StandardScaler()\n",
        "   x_train_scaled = scaled.fit_transform(x_train)\n",
        "   x_test_scaled = scaled.transform(x_test)\n",
        "\n",
        "   new_model.fit(x_train_scaled , y_train)\n",
        "\n",
        "   y_predi = new_model.predict(x_test_scaled)\n",
        "\n",
        "   accuracy = accuracy_score(y_test , y_predi)\n",
        "\n",
        "   if accuracy > best_accuracy :\n",
        "      best_accuracy = accuracy\n",
        "      best_fold_data = (x_train , x_test , y_train , y_test)\n",
        "   print(f\"Accuracy Score {fold+1} : {accuracy}\")\n",
        "\n",
        "print(f\"Among all the data best accuracy is : {best_accuracy}\")\n",
        "if best_fold_data :\n",
        "  x_train , x_test , y_train , y_test = best_fold_data\n",
        "\n",
        "print(x_train)  # printing the best train data from main data so that i can use this train data to fit the model\n",
        "print(y_train)"
      ],
      "metadata": {
        "id": "5Q4KCNQnyjaG"
      },
      "execution_count": null,
      "outputs": []
    },
    {
      "cell_type": "code",
      "source": [
        "scaler = StandardScaler()\n",
        "x_train_scale = scaler.fit_transform(x_train)\n",
        "x_test_scale =  scaler.transform(x_test)\n",
        "\n",
        "new_model.fit(x_train_scale , y_train)\n",
        "result = new_model.predict(x_test_scale)\n",
        "print(\"Accuracy Score : \", accuracy_score(y_test , result)*100.0)\n",
        "print(f\"Confusion Matrix : {confusion_matrix(y_test , result)} \" )\n",
        "print(f\"Precision Score : {precision_score(y_test , result)*100.0} \")\n",
        "print(f\"Recall Score : {recall_score(y_test , result)*100.0}\")\n",
        "print(f\"ROC AUC SCORE :  {roc_auc_score(y_test , result)*100.0}\")"
      ],
      "metadata": {
        "id": "qxc421kN3nZ9"
      },
      "execution_count": null,
      "outputs": []
    },
    {
      "cell_type": "code",
      "source": [
        "cn = confusion_matrix(y_test , result)\n",
        "plt.figure(figsize = (3,3))\n",
        "sns.heatmap(cn , annot = True)\n",
        "plt.show()"
      ],
      "metadata": {
        "id": "iWhIhxPS5IK_"
      },
      "execution_count": null,
      "outputs": []
    },
    {
      "cell_type": "code",
      "source": [
        "print(new_model.intercept_)"
      ],
      "metadata": {
        "id": "i4ARO30m5uzH"
      },
      "execution_count": null,
      "outputs": []
    },
    {
      "cell_type": "code",
      "source": [
        "coef_df = pd.DataFrame({\n",
        "     'Feature Names ' : x_train.columns,\n",
        "     'Coefficients'   : new_model.coef_.flatten()\n",
        "})\n",
        "coef_df.sort_values('Coefficients' , ascending = False )"
      ],
      "metadata": {
        "id": "uitLqvdp50Nb"
      },
      "execution_count": null,
      "outputs": []
    },
    {
      "cell_type": "code",
      "source": [
        "from sklearn.model_selection import KFold , cross_val_score\n",
        "from sklearn.linear_model import LogisticRegression\n",
        "from sklearn.preprocessing import StandardScaler\n",
        "\n",
        "kf = KFold(n_splits = 10 , shuffle = True , random_state = 42)\n",
        "new_model = LogisticRegression(penalty = 'l2' , C = 0.1 , solver = 'lbfgs', random_state = 42 , max_iter = 5000 )\n",
        "\n",
        "best_accuracy = 0\n",
        "best_fold_data = None\n",
        "\n",
        "for fold , (train_index , test_index) in enumerate(kf.split(x)):\n",
        "   x_train , x_test = x.iloc[train_index] , x.iloc[test_index]\n",
        "   y_train , y_test = y.iloc[train_index]  , y.iloc[test_index]\n",
        "\n",
        "   scaled = StandardScaler()\n",
        "   x_train_scaled = scaled.fit_transform(x_train)\n",
        "   x_test_scaled = scaled.transform(x_test)\n",
        "\n",
        "   new_model.fit(x_train_scaled , y_train)\n",
        "\n",
        "   y_predi = new_model.predict(x_test_scaled)\n",
        "\n",
        "   accuracy = accuracy_score(y_test , y_predi)\n",
        "\n",
        "   if accuracy > best_accuracy :\n",
        "      best_accuracy = accuracy\n",
        "      best_fold_data = (x_train , x_test , y_train , y_test)\n",
        "   print(f\"Accuracy Score {fold+1} : {accuracy}\")\n",
        "\n",
        "print(f\"Among all the data best accuracy is : {best_accuracy}\")\n",
        "if best_fold_data :\n",
        "  x_train , x_test , y_train , y_test = best_fold_data\n",
        "\n",
        "print(x_train)  # printing the best train data from main data so that i can use this train data to fit the model\n",
        "print(y_train)"
      ],
      "metadata": {
        "id": "n-_bhDNN8JYO"
      },
      "execution_count": null,
      "outputs": []
    },
    {
      "cell_type": "code",
      "source": [
        "scaler = StandardScaler()\n",
        "x_train_scale = scaler.fit_transform(x_train)\n",
        "x_test_scale =  scaler.transform(x_test)\n",
        "\n",
        "new_model.fit(x_train_scale , y_train)\n",
        "result = new_model.predict(x_test_scale)\n",
        "print(\"Accuracy Score : \", accuracy_score(y_test , result)*100.0)\n",
        "print(f\"Confusion Matrix : {confusion_matrix(y_test , result)} \" )\n",
        "print(f\"Precision Score : {precision_score(y_test , result)*100.0} \")\n",
        "print(f\"Recall Score : {recall_score(y_test , result)*100.0}\")\n",
        "print(f\"ROC AUC SCORE :  {roc_auc_score(y_test , result)*100.0}\")"
      ],
      "metadata": {
        "id": "P78SAkjc8P4C"
      },
      "execution_count": null,
      "outputs": []
    },
    {
      "cell_type": "code",
      "source": [
        "print(new_model.intercept_)"
      ],
      "metadata": {
        "id": "s3OVdqXl_cy2"
      },
      "execution_count": null,
      "outputs": []
    },
    {
      "cell_type": "code",
      "source": [
        "coef_df = pd.DataFrame({\n",
        "     'Feature Names ' : x_train.columns,\n",
        "     'Coefficients'   : new_model.coef_.flatten()\n",
        "})\n",
        "coef_df.sort_values('Coefficients' , ascending = False )"
      ],
      "metadata": {
        "id": "Qk_juOrj8ZEI"
      },
      "execution_count": null,
      "outputs": []
    }
  ]
}